{
 "cells": [
  {
   "cell_type": "markdown",
   "metadata": {},
   "source": [
    "# Introduction/Business Problem"
   ]
  },
  {
   "cell_type": "markdown",
   "metadata": {},
   "source": [
    "### The Problem\n",
    "The average level of intelligence required to work within a company in New York City's business district is unparalleled to any other city's business district. As business workers require food to operate at peak levels, not all foods allow for the same level of operation, and intelligence within a working environment translates to intelligence in meal selection, it follows that the types of food in New York's business district are as well matched or greater matched to business workers' needs as the types of foods found in any other business district. Other cities also possess business districts with workers that also require food to operate at peak levels. There likely exist some business districts that are serving less of the food types that are served in New York's business district (accounting for the size of the districts) and as these food types are the food types powering the best business workers, it follows that these business district could use more restaurants that serve those food types."
   ]
  },
  {
   "cell_type": "markdown",
   "metadata": {},
   "source": [
    "### Proposed Solution: \n",
    "Find business districts that, per square foot, possess significantly fewer restaurants of the same type as a type that is commonly found in New York, where whether or not a restaurant type is commonly found in New York's business district accounts for the size of New York's business district. "
   ]
  },
  {
   "cell_type": "markdown",
   "metadata": {},
   "source": [
    "# The Data"
   ]
  },
  {
   "cell_type": "markdown",
   "metadata": {},
   "source": [
    "### What is required?\n",
    "* Coordinates and size (square feet) of New York City's largest business districts (2-3 districts)\n",
    "* Coordinates and size (square feet) of large business districts outside of New York City\n",
    "* \\# of restaurants of each restaurant type (that Foursquare tracks) found within each of these business districts"
   ]
  }
 ],
 "metadata": {
  "kernelspec": {
   "display_name": "Python 3",
   "language": "python",
   "name": "python3"
  },
  "language_info": {
   "codemirror_mode": {
    "name": "ipython",
    "version": 3
   },
   "file_extension": ".py",
   "mimetype": "text/x-python",
   "name": "python",
   "nbconvert_exporter": "python",
   "pygments_lexer": "ipython3",
   "version": "3.8.5"
  }
 },
 "nbformat": 4,
 "nbformat_minor": 4
}
