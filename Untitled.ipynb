{
 "cells": [
  {
   "cell_type": "markdown",
   "metadata": {},
   "source": [
    "# Introduction/Business Problem"
   ]
  },
  {
   "cell_type": "markdown",
   "metadata": {},
   "source": [
    "### The Problem\n",
    "The average level of intelligence required to work within a company in New York City's financial district is unparalleled to any other city's financial district. As finance workers require food to operate at peak levels, not all foods allow for the same level of operation, and intelligence within a working environment translates to intelligence in meal selection, it follows that the types of food in New York's financial district are as well matched or greater matched to finance workers' needs as the types of foods found in any other financial district. Other cities also possess financial districts with workers that also require food to operate at peak levels. There likely exist some financial districts that are serving less of the food types that are served in New York's financial district (accounting for the size of the districts) and as these food types are the food types \"chosen\" by New York's highly intelligent finance workers, it follows that these financial district could use more restaurants that serve those food types."
   ]
  },
  {
   "cell_type": "markdown",
   "metadata": {},
   "source": [
    "### Proposed Solution \n",
    "Find financial districts that, per square foot, possess significantly fewer restaurants of the same type as a type that is commonly found in New York, where whether or not a restaurant type is commonly found in New York's financial district accounts for the size of New York's financial district. "
   ]
  },
  {
   "cell_type": "markdown",
   "metadata": {},
   "source": [
    "### Target Audience \n",
    "The job of choosing a restaurant type and location for restaurant entrepreneurs looking to open restaurants within this project's identified cities will be made easier. If the proposed restaurants are opened within the identified financial districts, the workers of these districts will be positively impacted as will their employers."
   ]
  },
  {
   "cell_type": "markdown",
   "metadata": {},
   "source": [
    "# The Data"
   ]
  },
  {
   "cell_type": "markdown",
   "metadata": {},
   "source": [
    "## What is required?\n",
    "### 1. The locations and sizes of financial districts found within the United States. "
   ]
  },
  {
   "cell_type": "markdown",
   "metadata": {},
   "source": [
    "These will come from Wikipedia (this link, https://en.wikipedia.org/wiki/List_of_financial_districts). Financial districts will be limited to those found in the United States as I am only knowledgable of the laws of the United States. Coordinates of all but two of the districts found on Wikipedia are available also through Wikipedia and the sizes of six of them are also available: Charlotte's, Detroit's, Miami's, San Francisco's, and both of New York's. \n"
   ]
  },
  {
   "cell_type": "markdown",
   "metadata": {},
   "source": [
    "### 2. The restaurants and a categorization of each's type found within each of the identified districts"
   ]
  },
  {
   "cell_type": "markdown",
   "metadata": {},
   "source": [
    "This will come from Foursquare's API. "
   ]
  },
  {
   "cell_type": "markdown",
   "metadata": {},
   "source": [
    "## Required Packages"
   ]
  },
  {
   "cell_type": "code",
   "execution_count": null,
   "metadata": {},
   "outputs": [],
   "source": [
    "import pandas as pd\n",
    "import num"
   ]
  }
 ],
 "metadata": {
  "kernelspec": {
   "display_name": "Python 3",
   "language": "python",
   "name": "python3"
  },
  "language_info": {
   "codemirror_mode": {
    "name": "ipython",
    "version": 3
   },
   "file_extension": ".py",
   "mimetype": "text/x-python",
   "name": "python",
   "nbconvert_exporter": "python",
   "pygments_lexer": "ipython3",
   "version": "3.8.5"
  }
 },
 "nbformat": 4,
 "nbformat_minor": 4
}
